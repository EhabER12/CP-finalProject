{
 "cells": [
  {
   "cell_type": "code",
   "execution_count": 2,
   "id": "618fd0dd",
   "metadata": {
    "scrolled": false
   },
   "outputs": [
    {
     "ename": "RuntimeError",
     "evalue": "the file 'cc9.mzML' could not be found",
     "output_type": "error",
     "traceback": [
      "\u001b[1;31m---------------------------------------------------------------------------\u001b[0m",
      "\u001b[1;31mRuntimeError\u001b[0m                              Traceback (most recent call last)",
      "\u001b[1;32m~\\AppData\\Local\\Temp/ipykernel_9488/1646155342.py\u001b[0m in \u001b[0;36m<module>\u001b[1;34m\u001b[0m\n\u001b[0;32m      4\u001b[0m \u001b[0mprotein_ids\u001b[0m \u001b[1;33m=\u001b[0m \u001b[1;33m[\u001b[0m\u001b[1;33m]\u001b[0m\u001b[1;33m\u001b[0m\u001b[1;33m\u001b[0m\u001b[0m\n\u001b[0;32m      5\u001b[0m \u001b[0mpeptide_ids\u001b[0m \u001b[1;33m=\u001b[0m \u001b[1;33m[\u001b[0m\u001b[1;33m]\u001b[0m\u001b[1;33m\u001b[0m\u001b[1;33m\u001b[0m\u001b[0m\n\u001b[1;32m----> 6\u001b[1;33m \u001b[0mSimpleSearchEngineAlgorithm\u001b[0m\u001b[1;33m(\u001b[0m\u001b[1;33m)\u001b[0m\u001b[1;33m.\u001b[0m\u001b[0msearch\u001b[0m\u001b[1;33m(\u001b[0m\u001b[1;34m\"cc9.mzML\"\u001b[0m\u001b[1;33m,\u001b[0m \u001b[1;34m\"cancer.fasta\"\u001b[0m\u001b[1;33m,\u001b[0m \u001b[0mprotein_ids\u001b[0m\u001b[1;33m,\u001b[0m \u001b[0mpeptide_ids\u001b[0m\u001b[1;33m)\u001b[0m\u001b[1;33m\u001b[0m\u001b[1;33m\u001b[0m\u001b[0m\n\u001b[0m\u001b[0;32m      7\u001b[0m \u001b[1;32mfor\u001b[0m \u001b[0mpeptide_id\u001b[0m \u001b[1;32min\u001b[0m \u001b[0mpeptide_ids\u001b[0m\u001b[1;33m:\u001b[0m\u001b[1;33m\u001b[0m\u001b[1;33m\u001b[0m\u001b[0m\n\u001b[0;32m      8\u001b[0m     \u001b[0mprint\u001b[0m \u001b[1;33m(\u001b[0m\u001b[1;34m\"___________________________________________________________________________\"\u001b[0m\u001b[1;33m)\u001b[0m\u001b[1;33m\u001b[0m\u001b[1;33m\u001b[0m\u001b[0m\n",
      "\u001b[1;32mpyopenms\\pyopenms_7.pyx\u001b[0m in \u001b[0;36mpyopenms.pyopenms_7.SimpleSearchEngineAlgorithm.search\u001b[1;34m()\u001b[0m\n",
      "\u001b[1;31mRuntimeError\u001b[0m: the file 'cc9.mzML' could not be found"
     ]
    }
   ],
   "source": [
    "from pyopenms import *\n",
    "import matplotlib.pyplot as plt\n",
    "\n",
    "protein_ids = []\n",
    "peptide_ids = []\n",
    "SimpleSearchEngineAlgorithm().search(\"cc9.mzML\", \"cancer.fasta\", protein_ids, peptide_ids)\n",
    "for peptide_id in peptide_ids:\n",
    "    print (\"___________________________________________________________________________\")\n",
    "    print (\"Peptide Index m/z:\", peptide_id.getMetaValue(\"scan_index\"))\n",
    "    for hit in peptide_id.getHits():\n",
    "        print(\" - Peptide hit sequence:\", hit.getSequence())\n",
    "        print(\" - Peptide hit rank:\", hit.getRank())\n",
    "        string= hit.getSequence().toString()\n",
    "        tsg = TheoreticalSpectrumGenerator()\n",
    "        theo_spec = MSSpectrum()\n",
    "        p = Param()\n",
    "        p.setValue(\"add_y_ions\", \"true\")\n",
    "        p.setValue(\"add_b_ions\", \"true\")\n",
    "        p.setValue(\"add_metainfo\", \"true\")\n",
    "        tsg.setParameters(p)\n",
    "        peptide = AASequence.fromString(hit.getSequence().toString())\n",
    "        tsg.getSpectrum(theo_spec, peptide, 1, 2)\n",
    "        # Iterate over annotated ions and their masses\n",
    "        print(\"Spectrum 1 of\", peptide, \"has\", theo_spec.size(), \"peaks.\")\n",
    "        for ion, peak in zip(theo_spec.getStringDataArrays()[0], theo_spec):\n",
    "            print(ion.decode(), \"is generated at m/z\", peak.getMZ())\n",
    "        exp = MSExperiment()\n",
    "        MzMLFile().load(\"cc9.mzML\", exp)\n",
    "        spectra = exp.getSpectrum(peptide_id.getMetaValue(\"scan_index\"))\n",
    "        alignment = []\n",
    "        spa = SpectrumAlignment()\n",
    "        p = spa.getParameters()\n",
    "        p.setValue(\"tolerance\", 0.5)\n",
    "        p.setValue(\"is_relative_tolerance\", \"false\")\n",
    "        spa.setParameters(p)\n",
    "        # align both spectra\n",
    "        spa.getSpectrumAlignment(alignment, theo_spec, spectra)\n",
    "\n",
    "        # Print matching ions and mz from theoretical spectrum\n",
    "        print(\"Number of matched peaks: \" + str(len(alignment)))\n",
    "        print(\"ion\\ttheo. m/z\\tobserved m/z\")\n",
    "\n",
    "        for theo_idx, obs_idx in alignment:\n",
    "            ion_name = theo_spec.getStringDataArrays()[0][theo_idx].decode()\n",
    "            ion_charge = theo_spec.getIntegerDataArrays()[0][theo_idx]\n",
    "            print(ion_name + \"\\t\" + str(ion_charge) + \"\\t\"\n",
    "                  + str(theo_spec[theo_idx].getMZ())\n",
    "                  + \"\\t\" + str(spectra[obs_idx].getMZ()))\n",
    "\n",
    "        theo_mz, theo_int, obs_mz, obs_int = [], [], [], []\n",
    "        for theo_idx, obs_idx in alignment:\n",
    "            theo_mz.append(theo_spec[theo_idx].getMZ())\n",
    "            theo_int.append(theo_spec[theo_idx].getIntensity())\n",
    "            obs_mz.append(spectra[obs_idx].getMZ())\n",
    "            obs_int.append(spectra[obs_idx].getIntensity())\n",
    "        title = f'{string},{peptide_id.getMetaValue(\"scan_index\")}'\n",
    "        flag=False\n",
    "        for i in obs_int:\n",
    "            if(i>0):\n",
    "                flag=True\n",
    "                break\n",
    "        if(flag==True):\n",
    "           mirror_plot(obs_mz, obs_int, theo_mz, theo_int, title)\n",
    "        else:\n",
    "           flag=False\n",
    "\n",
    "def mirror_plot(obs_mz, obs_int, theo_mz, theo_int, title):\n",
    "  obs_int = [element / max(obs_int) for element in obs_int]  # relative intenstiy\n",
    "  theo_int = [element * -1 for element in theo_int]  # invert the intensity for the mirror plot\n",
    "  plt.figure(figsize=(12, 8))\n",
    "  plt.bar(obs_mz, obs_int, width=3.0)\n",
    "  plt.bar(theo_mz, theo_int, width=3.0)\n",
    "  plt.title(title)\n",
    "  plt.ylabel('intensity')\n",
    "  plt.xlabel('m/z')\n",
    "  plt.show()        "
   ]
  },
  {
   "cell_type": "code",
   "execution_count": null,
   "id": "74c98436",
   "metadata": {},
   "outputs": [],
   "source": []
  },
  {
   "cell_type": "code",
   "execution_count": null,
   "id": "5662d0dd",
   "metadata": {},
   "outputs": [],
   "source": []
  }
 ],
 "metadata": {
  "kernelspec": {
   "display_name": "Python 3 (ipykernel)",
   "language": "python",
   "name": "python3"
  },
  "language_info": {
   "codemirror_mode": {
    "name": "ipython",
    "version": 3
   },
   "file_extension": ".py",
   "mimetype": "text/x-python",
   "name": "python",
   "nbconvert_exporter": "python",
   "pygments_lexer": "ipython3",
   "version": "3.9.7"
  }
 },
 "nbformat": 4,
 "nbformat_minor": 5
}
